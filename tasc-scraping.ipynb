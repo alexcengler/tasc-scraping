{
 "cells": [
  {
   "cell_type": "code",
   "execution_count": 4,
   "metadata": {
    "collapsed": false
   },
   "outputs": [],
   "source": [
    "import requests\n",
    "import selenium\n",
    "import pandas as pd"
   ]
  },
  {
   "cell_type": "code",
   "execution_count": 9,
   "metadata": {
    "collapsed": true
   },
   "outputs": [],
   "source": [
    "zips = pd.read_csv(\"illinois-zip-codes.csv\")\n",
    "counties = zips.County.unique()"
   ]
  },
  {
   "cell_type": "code",
   "execution_count": 22,
   "metadata": {
    "collapsed": false
   },
   "outputs": [],
   "source": [
    "# counties = list(map(lower, counties)); \n",
    "for i in range(0, len(counties)):\n",
    "    counties[i] = counties[i].lower().replace(\" \",\"\")"
   ]
  },
  {
   "cell_type": "code",
   "execution_count": 23,
   "metadata": {
    "collapsed": false
   },
   "outputs": [
    {
     "data": {
      "text/plain": [
       "array(['mchenry', 'lake', 'cook', 'dupage', 'kane', 'dekalb', 'ogle',\n",
       "       'will', 'grundy', 'livingston', 'lasalle', 'kendall', 'lee',\n",
       "       'kankakee', 'iroquois', 'ford', 'vermilion', 'champaign',\n",
       "       'jodaviess', 'boone', 'stephenson', 'carroll', 'winnebago',\n",
       "       'whiteside', 'rockisland', 'mercer', 'henry', 'bureau', 'putnam',\n",
       "       'marshall', 'knox', 'mcdonough', 'fulton', 'warren', 'henderson',\n",
       "       'stark', 'hancock', 'peoria', 'schuyler', 'woodford', 'mason',\n",
       "       'tazewell', 'mclean', 'logan', 'dewitt', 'macon', 'piatt',\n",
       "       'douglas', 'coles', 'moultrie', 'edgar', 'shelby', 'madison',\n",
       "       'calhoun', 'macoupin', 'fayette', 'montgomery', 'greene', 'jersey',\n",
       "       'saintclair', 'christian', 'bond', 'washington', 'clinton',\n",
       "       'randolph', 'monroe', 'perry', 'adams', 'pike', 'brown',\n",
       "       'effingham', 'wabash', 'crawford', 'lawrence', 'richland', 'clark',\n",
       "       'cumberland', 'jasper', 'clay', 'wayne', 'edwards', 'sangamon',\n",
       "       'morgan', 'scott', 'cass', 'menard', 'marion', 'franklin',\n",
       "       'jefferson', 'hamilton', 'white', 'williamson', 'gallatin',\n",
       "       'jackson', 'union', 'johnson', 'massac', 'alexander', 'saline',\n",
       "       'hardin', 'pope', 'pulaski'], dtype=object)"
      ]
     },
     "execution_count": 23,
     "metadata": {},
     "output_type": "execute_result"
    }
   ],
   "source": [
    "counties"
   ]
  },
  {
   "cell_type": "code",
   "execution_count": 24,
   "metadata": {
    "collapsed": false
   },
   "outputs": [
    {
     "name": "stdout",
     "output_type": "stream",
     "text": [
      "http://www2.tasc.org/tasc-services-in-your-community?field_tasc_county_tid=mchenry\n",
      "http://www2.tasc.org/tasc-services-in-your-community?field_tasc_county_tid=lake\n",
      "http://www2.tasc.org/tasc-services-in-your-community?field_tasc_county_tid=cook\n",
      "http://www2.tasc.org/tasc-services-in-your-community?field_tasc_county_tid=dupage\n",
      "http://www2.tasc.org/tasc-services-in-your-community?field_tasc_county_tid=kane\n",
      "http://www2.tasc.org/tasc-services-in-your-community?field_tasc_county_tid=dekalb\n",
      "http://www2.tasc.org/tasc-services-in-your-community?field_tasc_county_tid=ogle\n",
      "http://www2.tasc.org/tasc-services-in-your-community?field_tasc_county_tid=will\n",
      "http://www2.tasc.org/tasc-services-in-your-community?field_tasc_county_tid=grundy\n",
      "http://www2.tasc.org/tasc-services-in-your-community?field_tasc_county_tid=livingston\n",
      "http://www2.tasc.org/tasc-services-in-your-community?field_tasc_county_tid=lasalle\n",
      "http://www2.tasc.org/tasc-services-in-your-community?field_tasc_county_tid=kendall\n",
      "http://www2.tasc.org/tasc-services-in-your-community?field_tasc_county_tid=lee\n",
      "http://www2.tasc.org/tasc-services-in-your-community?field_tasc_county_tid=kankakee\n",
      "http://www2.tasc.org/tasc-services-in-your-community?field_tasc_county_tid=iroquois\n",
      "http://www2.tasc.org/tasc-services-in-your-community?field_tasc_county_tid=ford\n",
      "http://www2.tasc.org/tasc-services-in-your-community?field_tasc_county_tid=vermilion\n",
      "http://www2.tasc.org/tasc-services-in-your-community?field_tasc_county_tid=champaign\n",
      "http://www2.tasc.org/tasc-services-in-your-community?field_tasc_county_tid=jodaviess\n",
      "http://www2.tasc.org/tasc-services-in-your-community?field_tasc_county_tid=boone\n",
      "http://www2.tasc.org/tasc-services-in-your-community?field_tasc_county_tid=stephenson\n",
      "http://www2.tasc.org/tasc-services-in-your-community?field_tasc_county_tid=carroll\n",
      "http://www2.tasc.org/tasc-services-in-your-community?field_tasc_county_tid=winnebago\n",
      "http://www2.tasc.org/tasc-services-in-your-community?field_tasc_county_tid=whiteside\n",
      "http://www2.tasc.org/tasc-services-in-your-community?field_tasc_county_tid=rockisland\n",
      "http://www2.tasc.org/tasc-services-in-your-community?field_tasc_county_tid=mercer\n",
      "http://www2.tasc.org/tasc-services-in-your-community?field_tasc_county_tid=henry\n",
      "http://www2.tasc.org/tasc-services-in-your-community?field_tasc_county_tid=bureau\n",
      "http://www2.tasc.org/tasc-services-in-your-community?field_tasc_county_tid=putnam\n",
      "http://www2.tasc.org/tasc-services-in-your-community?field_tasc_county_tid=marshall\n",
      "http://www2.tasc.org/tasc-services-in-your-community?field_tasc_county_tid=knox\n",
      "http://www2.tasc.org/tasc-services-in-your-community?field_tasc_county_tid=mcdonough\n",
      "http://www2.tasc.org/tasc-services-in-your-community?field_tasc_county_tid=fulton\n",
      "http://www2.tasc.org/tasc-services-in-your-community?field_tasc_county_tid=warren\n",
      "http://www2.tasc.org/tasc-services-in-your-community?field_tasc_county_tid=henderson\n",
      "http://www2.tasc.org/tasc-services-in-your-community?field_tasc_county_tid=stark\n",
      "http://www2.tasc.org/tasc-services-in-your-community?field_tasc_county_tid=hancock\n",
      "http://www2.tasc.org/tasc-services-in-your-community?field_tasc_county_tid=peoria\n",
      "http://www2.tasc.org/tasc-services-in-your-community?field_tasc_county_tid=schuyler\n",
      "http://www2.tasc.org/tasc-services-in-your-community?field_tasc_county_tid=woodford\n",
      "http://www2.tasc.org/tasc-services-in-your-community?field_tasc_county_tid=mason\n",
      "http://www2.tasc.org/tasc-services-in-your-community?field_tasc_county_tid=tazewell\n",
      "http://www2.tasc.org/tasc-services-in-your-community?field_tasc_county_tid=mclean\n",
      "http://www2.tasc.org/tasc-services-in-your-community?field_tasc_county_tid=logan\n",
      "http://www2.tasc.org/tasc-services-in-your-community?field_tasc_county_tid=dewitt\n",
      "http://www2.tasc.org/tasc-services-in-your-community?field_tasc_county_tid=macon\n",
      "http://www2.tasc.org/tasc-services-in-your-community?field_tasc_county_tid=piatt\n",
      "http://www2.tasc.org/tasc-services-in-your-community?field_tasc_county_tid=douglas\n",
      "http://www2.tasc.org/tasc-services-in-your-community?field_tasc_county_tid=coles\n",
      "http://www2.tasc.org/tasc-services-in-your-community?field_tasc_county_tid=moultrie\n",
      "http://www2.tasc.org/tasc-services-in-your-community?field_tasc_county_tid=edgar\n",
      "http://www2.tasc.org/tasc-services-in-your-community?field_tasc_county_tid=shelby\n",
      "http://www2.tasc.org/tasc-services-in-your-community?field_tasc_county_tid=madison\n",
      "http://www2.tasc.org/tasc-services-in-your-community?field_tasc_county_tid=calhoun\n",
      "http://www2.tasc.org/tasc-services-in-your-community?field_tasc_county_tid=macoupin\n",
      "http://www2.tasc.org/tasc-services-in-your-community?field_tasc_county_tid=fayette\n",
      "http://www2.tasc.org/tasc-services-in-your-community?field_tasc_county_tid=montgomery\n",
      "http://www2.tasc.org/tasc-services-in-your-community?field_tasc_county_tid=greene\n",
      "http://www2.tasc.org/tasc-services-in-your-community?field_tasc_county_tid=jersey\n",
      "http://www2.tasc.org/tasc-services-in-your-community?field_tasc_county_tid=saintclair\n",
      "http://www2.tasc.org/tasc-services-in-your-community?field_tasc_county_tid=christian\n",
      "http://www2.tasc.org/tasc-services-in-your-community?field_tasc_county_tid=bond\n",
      "http://www2.tasc.org/tasc-services-in-your-community?field_tasc_county_tid=washington\n",
      "http://www2.tasc.org/tasc-services-in-your-community?field_tasc_county_tid=clinton\n",
      "http://www2.tasc.org/tasc-services-in-your-community?field_tasc_county_tid=randolph\n",
      "http://www2.tasc.org/tasc-services-in-your-community?field_tasc_county_tid=monroe\n",
      "http://www2.tasc.org/tasc-services-in-your-community?field_tasc_county_tid=perry\n",
      "http://www2.tasc.org/tasc-services-in-your-community?field_tasc_county_tid=adams\n",
      "http://www2.tasc.org/tasc-services-in-your-community?field_tasc_county_tid=pike\n",
      "http://www2.tasc.org/tasc-services-in-your-community?field_tasc_county_tid=brown\n",
      "http://www2.tasc.org/tasc-services-in-your-community?field_tasc_county_tid=effingham\n",
      "http://www2.tasc.org/tasc-services-in-your-community?field_tasc_county_tid=wabash\n",
      "http://www2.tasc.org/tasc-services-in-your-community?field_tasc_county_tid=crawford\n",
      "http://www2.tasc.org/tasc-services-in-your-community?field_tasc_county_tid=lawrence\n",
      "http://www2.tasc.org/tasc-services-in-your-community?field_tasc_county_tid=richland\n",
      "http://www2.tasc.org/tasc-services-in-your-community?field_tasc_county_tid=clark\n",
      "http://www2.tasc.org/tasc-services-in-your-community?field_tasc_county_tid=cumberland\n",
      "http://www2.tasc.org/tasc-services-in-your-community?field_tasc_county_tid=jasper\n",
      "http://www2.tasc.org/tasc-services-in-your-community?field_tasc_county_tid=clay\n",
      "http://www2.tasc.org/tasc-services-in-your-community?field_tasc_county_tid=wayne\n",
      "http://www2.tasc.org/tasc-services-in-your-community?field_tasc_county_tid=edwards\n",
      "http://www2.tasc.org/tasc-services-in-your-community?field_tasc_county_tid=sangamon\n",
      "http://www2.tasc.org/tasc-services-in-your-community?field_tasc_county_tid=morgan\n",
      "http://www2.tasc.org/tasc-services-in-your-community?field_tasc_county_tid=scott\n",
      "http://www2.tasc.org/tasc-services-in-your-community?field_tasc_county_tid=cass\n",
      "http://www2.tasc.org/tasc-services-in-your-community?field_tasc_county_tid=menard\n",
      "http://www2.tasc.org/tasc-services-in-your-community?field_tasc_county_tid=marion\n",
      "http://www2.tasc.org/tasc-services-in-your-community?field_tasc_county_tid=franklin\n",
      "http://www2.tasc.org/tasc-services-in-your-community?field_tasc_county_tid=jefferson\n",
      "http://www2.tasc.org/tasc-services-in-your-community?field_tasc_county_tid=hamilton\n",
      "http://www2.tasc.org/tasc-services-in-your-community?field_tasc_county_tid=white\n",
      "http://www2.tasc.org/tasc-services-in-your-community?field_tasc_county_tid=williamson\n",
      "http://www2.tasc.org/tasc-services-in-your-community?field_tasc_county_tid=gallatin\n",
      "http://www2.tasc.org/tasc-services-in-your-community?field_tasc_county_tid=jackson\n",
      "http://www2.tasc.org/tasc-services-in-your-community?field_tasc_county_tid=union\n",
      "http://www2.tasc.org/tasc-services-in-your-community?field_tasc_county_tid=johnson\n",
      "http://www2.tasc.org/tasc-services-in-your-community?field_tasc_county_tid=massac\n",
      "http://www2.tasc.org/tasc-services-in-your-community?field_tasc_county_tid=alexander\n",
      "http://www2.tasc.org/tasc-services-in-your-community?field_tasc_county_tid=saline\n",
      "http://www2.tasc.org/tasc-services-in-your-community?field_tasc_county_tid=hardin\n",
      "http://www2.tasc.org/tasc-services-in-your-community?field_tasc_county_tid=pope\n",
      "http://www2.tasc.org/tasc-services-in-your-community?field_tasc_county_tid=pulaski\n"
     ]
    }
   ],
   "source": [
    "url = \"http://www2.tasc.org/tasc-services-in-your-community?field_tasc_county_tid=\"\n",
    "\n",
    "for cty in counties:\n",
    "    url=  url + cty\n",
    "    page = requests.get(url)\n",
    "    print(page)"
   ]
  },
  {
   "cell_type": "code",
   "execution_count": null,
   "metadata": {
    "collapsed": true
   },
   "outputs": [],
   "source": []
  },
  {
   "cell_type": "code",
   "execution_count": null,
   "metadata": {
    "collapsed": true
   },
   "outputs": [],
   "source": []
  }
 ],
 "metadata": {
  "kernelspec": {
   "display_name": "Python 2",
   "language": "python",
   "name": "python2"
  },
  "language_info": {
   "codemirror_mode": {
    "name": "ipython",
    "version": 2
   },
   "file_extension": ".py",
   "mimetype": "text/x-python",
   "name": "python",
   "nbconvert_exporter": "python",
   "pygments_lexer": "ipython2",
   "version": "2.7.13"
  }
 },
 "nbformat": 4,
 "nbformat_minor": 0
}
