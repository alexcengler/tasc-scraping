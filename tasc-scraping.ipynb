{
 "cells": [
  {
   "cell_type": "code",
   "execution_count": 17,
   "metadata": {
    "collapsed": false,
    "deletable": true,
    "editable": true
   },
   "outputs": [],
   "source": [
    "import os\n",
    "import re\n",
    "import time\n",
    "import numpy as np\n",
    "\n",
    "import requests\n",
    "import pandas as pd\n",
    "from bs4 import BeautifulSoup\n",
    "\n",
    "from selenium import webdriver\n",
    "from selenium.webdriver.support import expected_conditions as EC\n",
    "from selenium.common.exceptions import TimeoutException\n",
    "from selenium.common.exceptions import NoSuchElementException        \n",
    "from selenium.webdriver.common.by import By\n",
    "from selenium.webdriver.support.ui import WebDriverWait\n",
    "\n",
    "\n",
    "from itertools import product\n",
    "from string import ascii_uppercase"
   ]
  },
  {
   "cell_type": "code",
   "execution_count": 7,
   "metadata": {
    "collapsed": false,
    "deletable": true,
    "editable": true
   },
   "outputs": [
    {
     "name": "stdout",
     "output_type": "stream",
     "text": [
      "['Mchenry' 'Lake' 'Cook' 'Dupage' 'Kane' 'Dekalb' 'Ogle' 'Will' 'Grundy'\n",
      " 'Livingston' 'La Salle' 'Kendall' 'Lee' 'Kankakee' 'Iroquois' 'Ford'\n",
      " 'Vermilion' 'Champaign' 'Jo Daviess' 'Boone' 'Stephenson' 'Carroll'\n",
      " 'Winnebago' 'Whiteside' 'Rock Island' 'Mercer' 'Henry' 'Bureau' 'Putnam'\n",
      " 'Marshall' 'Knox' 'Mcdonough' 'Fulton' 'Warren' 'Henderson' 'Stark'\n",
      " 'Hancock' 'Peoria' 'Schuyler' 'Woodford' 'Mason' 'Tazewell' 'Mclean'\n",
      " 'Logan' 'Dewitt' 'Macon' 'Piatt' 'Douglas' 'Coles' 'Moultrie' 'Edgar'\n",
      " 'Shelby' 'Madison' 'Calhoun' 'Macoupin' 'Fayette' 'Montgomery' 'Greene'\n",
      " 'Jersey' 'Saint Clair' 'Christian' 'Bond' 'Washington' 'Clinton'\n",
      " 'Randolph' 'Monroe' 'Perry' 'Adams' 'Pike' 'Brown' 'Effingham' 'Wabash'\n",
      " 'Crawford' 'Lawrence' 'Richland' 'Clark' 'Cumberland' 'Jasper' 'Clay'\n",
      " 'Wayne' 'Edwards' 'Sangamon' 'Morgan' 'Scott' 'Cass' 'Menard' 'Marion'\n",
      " 'Franklin' 'Jefferson' 'Hamilton' 'White' 'Williamson' 'Gallatin'\n",
      " 'Jackson' 'Union' 'Johnson' 'Massac' 'Alexander' 'Saline' 'Hardin' 'Pope'\n",
      " 'Pulaski']\n"
     ]
    }
   ],
   "source": [
    "zips = pd.read_csv(\"illinois-zip-codes.csv\")\n",
    "counties = zips.County.unique()\n",
    "print(counties)"
   ]
  },
  {
   "cell_type": "code",
   "execution_count": 8,
   "metadata": {
    "collapsed": false,
    "deletable": true,
    "editable": true
   },
   "outputs": [],
   "source": [
    "# counties = list(map(lower, counties)); \n",
    "for i in range(0, len(counties)):\n",
    "    counties[i] = counties[i].lower().replace(\" \",\"\")\n",
    "    \n",
    "    if counties[i] == \"jodaviess\":\n",
    "        counties[i] = \"Jo+Daviess\"\n",
    "    if counties[i] == \"rockisland\":\n",
    "        counties[i] = \"Rock+Island\"       \n",
    "    if counties[i] == \"saintclair\":\n",
    "        pop_index_saintclair = i\n",
    "\n",
    "np.delete(counties, pop_index_saintclair)"
   ]
  },
  {
   "cell_type": "code",
   "execution_count": 23,
   "metadata": {
    "collapsed": false,
    "deletable": true,
    "editable": true
   },
   "outputs": [],
   "source": [
    "url = \"http://www2.tasc.org/tasc-services-in-your-community?field_tasc_county_tid=\"\n",
    "cty = counties[0]\n",
    "tmp_url = url + cty\n",
    "\n",
    "driver = webdriver.Chrome()\n",
    "driver.wait = WebDriverWait(driver, 5)\n",
    "driver.get(tmp_url)\n",
    "\n",
    "services_list = driver.wait.until(EC.presence_of_element_located((By.CLASS_NAME, \"county-services\")))"
   ]
  },
  {
   "cell_type": "markdown",
   "metadata": {
    "deletable": true,
    "editable": true
   },
   "source": [
    "services = services_list.find_elements_by_tag_name(\"li\")\n",
    "print(len(services))"
   ]
  },
  {
   "cell_type": "code",
   "execution_count": null,
   "metadata": {
    "collapsed": false,
    "deletable": true,
    "editable": true
   },
   "outputs": [
    {
     "name": "stdout",
     "output_type": "stream",
     "text": [
      "County: mchenry\n",
      "Dropping list item\n",
      "Dropping list item\n",
      "Dropping list item\n",
      "Dropping list item\n",
      "Dropping list item\n",
      "Dropping list item\n",
      "*****************\n",
      "Number of services: 8\n",
      "*****************\n",
      "Deana Elmore, MA, CJAP, CARS\n",
      "Administrator, Corrections and Clinical Community Reentry Services for Northern and Central Illinois (IDOC Parole Districts 2, 3, and 4)\n",
      "delmore@tasc.org\n",
      "Deana Elmore supervises a number of programs in which TASC provides services for the Illinois Department of Corrections, including Reception and Classification (R & C) screening at Logan and...\n",
      "Corrections & Community Reentry (Adults)\n",
      "Clinical Pre-Release and Reentry Services\n",
      "Moms and Babies Program\n",
      "Prison Substance Abuse Screening & Treatment Assignment\n",
      "VIEW\n",
      "Karen Notko, BA\n",
      "Administrator, TASC Areas 10 and 11 (Collar Counties) and Northern R & C\n",
      "knotko@tasc.org\n",
      "Experienced in clinical services, management, and public speaking, Karen Notko supervises TASC court services in the collar county communities surrounding Cook County and substance abuse screening...\n",
      "Alternatives to Incarceration (Adults)\n",
      "Adult Court and Probation Services\n",
      "Problem-Solving Courts\n",
      "Corrections & Community Reentry (Adults)\n",
      "Prison Substance Abuse Screening & Treatment Assignment\n",
      "VIEW\n",
      "County: lake\n",
      "Dropping list item\n",
      "Dropping list item\n",
      "Dropping list item\n",
      "Dropping list item\n",
      "Dropping list item\n",
      "Dropping list item\n",
      "Dropping list item\n",
      "Dropping list item\n",
      "Dropping list item\n",
      "Dropping list item\n",
      "Dropping list item\n",
      "Dropping list item\n",
      "*****************\n",
      "Number of services: 15\n",
      "*****************\n"
     ]
    }
   ],
   "source": [
    "url = \"http://www2.tasc.org/tasc-services-in-your-community?field_tasc_county_tid=\"\n",
    "\n",
    "final_list = list()\n",
    "\n",
    "for i in range(0, len(counties)):\n",
    "    cty = counties[i]\n",
    "    print(\"County: \" + cty)\n",
    "\n",
    "    tmp_url = url + cty\n",
    "\n",
    "    driver = webdriver.Chrome()\n",
    "    driver.wait = WebDriverWait(driver, 5)\n",
    "    driver.get(tmp_url)\n",
    "\n",
    "    services_list = driver.wait.until(EC.presence_of_element_located((By.CLASS_NAME, \"county-services\")))\n",
    "    services = services_list.find_elements_by_tag_name(\"li\")\n",
    "\n",
    "    services_true = list()\n",
    "    for i in range(0,len(services)):\n",
    "        try:\n",
    "            header = services[i].find_element_by_tag_name(\"h2\")\n",
    "            services_true.append(services[i])\n",
    "        except NoSuchElementException:\n",
    "            print(\"Dropping list item\")\n",
    "\n",
    "    print(\"*****************\") \n",
    "    print(\"Number of services: \" + str(len(services)))\n",
    "    print(\"*****************\") \n",
    "    \n",
    "    try: \n",
    "        for h in range(0, len(services_true)):\n",
    "            print(services_true[h].text)\n",
    "\n",
    "            header = services_true[h].find_element_by_tag_name(\"h2\")\n",
    "\n",
    "            obj = {\n",
    "                \"name\": header.text,\n",
    "                \"link\": header.find_element_by_tag_name(\"a\").get_attribute(\"href\"),\n",
    "                \"county\": cty\n",
    "            }\n",
    "\n",
    "            final_list.append(obj)\n",
    "            \n",
    "        driver.close()\n",
    "        driver.quit()\n",
    "        \n",
    "    except: \n",
    "        print(\"Error! Closing Driver.\")\n",
    "        driver.close()\n",
    "        driver.quit()"
   ]
  },
  {
   "cell_type": "code",
   "execution_count": 75,
   "metadata": {
    "collapsed": false,
    "deletable": true,
    "editable": true
   },
   "outputs": [
    {
     "name": "stdout",
     "output_type": "stream",
     "text": [
      "[{'link': u'http://www2.tasc.org/content/leader/deana-elmore-ma-cjap-cars', 'name': u'Deana Elmore, MA, CJAP, CARS'}, {'link': u'http://www2.tasc.org/content/leader/karen-notko-ba', 'name': u'Karen Notko, BA'}, {'link': u'http://www2.tasc.org/content/leader/angela-daniels-bs-cadc', 'name': u'Angela Daniels, BS, CADC'}, {'link': u'http://www2.tasc.org/content/leader/anthony-l-harden-cadc-ate', 'name': u'Anthony L. Harden, CADC, ATE'}, {'link': u'http://www2.tasc.org/content/leader/karen-notko-ba', 'name': u'Karen Notko, BA'}, {'link': u'http://www2.tasc.org/content/leader/robin-moore', 'name': u'Robin Moore, MSW, LCSW, CADC'}, {'link': u'http://www2.tasc.org/content/leader/angela-daniels-bs-cadc', 'name': u'Angela Daniels, BS, CADC'}, {'link': u'http://www2.tasc.org/content/leader/jean-mays-msw-lcsw', 'name': u'Jean Mays, MSW, LCSW'}, {'link': u'http://www2.tasc.org/content/leader/anthony-l-harden-cadc-ate', 'name': u'Anthony L. Harden, CADC, ATE'}, {'link': u'http://www2.tasc.org/content/leader/contact-osborne', 'name': u'TASC Court and Probation Services, Cook County'}, {'link': u'http://www2.tasc.org/content/leader/deana-elmore-ma-cjap-cars', 'name': u'Deana Elmore, MA, CJAP, CARS'}, {'link': u'http://www2.tasc.org/content/leader/karen-notko-ba', 'name': u'Karen Notko, BA'}]\n"
     ]
    }
   ],
   "source": [
    "print(final_list)"
   ]
  },
  {
   "cell_type": "code",
   "execution_count": null,
   "metadata": {
    "collapsed": true,
    "deletable": true,
    "editable": true
   },
   "outputs": [],
   "source": []
  }
 ],
 "metadata": {
  "kernelspec": {
   "display_name": "Python 2",
   "language": "python",
   "name": "python2"
  },
  "language_info": {
   "codemirror_mode": {
    "name": "ipython",
    "version": 2
   },
   "file_extension": ".py",
   "mimetype": "text/x-python",
   "name": "python",
   "nbconvert_exporter": "python",
   "pygments_lexer": "ipython2",
   "version": "2.7.11"
  }
 },
 "nbformat": 4,
 "nbformat_minor": 0
}
