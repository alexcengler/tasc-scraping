{
 "cells": [
  {
   "cell_type": "code",
   "execution_count": 37,
   "metadata": {
    "collapsed": false,
    "deletable": true,
    "editable": true
   },
   "outputs": [],
   "source": [
    "import os\n",
    "import re\n",
    "import time\n",
    "\n",
    "import requests\n",
    "import pandas as pd\n",
    "from bs4 import BeautifulSoup\n",
    "\n",
    "from selenium import webdriver\n",
    "from selenium.webdriver.support import expected_conditions as EC\n",
    "from selenium.common.exceptions import TimeoutException\n",
    "from selenium.common.exceptions import NoSuchElementException        \n",
    "from selenium.webdriver.common.by import By\n",
    "from selenium.webdriver.support.ui import WebDriverWait\n",
    "\n",
    "\n",
    "from itertools import product\n",
    "from string import ascii_uppercase"
   ]
  },
  {
   "cell_type": "code",
   "execution_count": 81,
   "metadata": {
    "collapsed": false,
    "deletable": true,
    "editable": true
   },
   "outputs": [
    {
     "name": "stdout",
     "output_type": "stream",
     "text": [
      "['Mchenry' 'Lake' 'Cook' 'Dupage' 'Kane' 'Dekalb' 'Ogle' 'Will' 'Grundy'\n",
      " 'Livingston' 'La Salle' 'Kendall' 'Lee' 'Kankakee' 'Iroquois' 'Ford'\n",
      " 'Vermilion' 'Champaign' 'Jo Daviess' 'Boone' 'Stephenson' 'Carroll'\n",
      " 'Winnebago' 'Whiteside' 'Rock Island' 'Mercer' 'Henry' 'Bureau' 'Putnam'\n",
      " 'Marshall' 'Knox' 'Mcdonough' 'Fulton' 'Warren' 'Henderson' 'Stark'\n",
      " 'Hancock' 'Peoria' 'Schuyler' 'Woodford' 'Mason' 'Tazewell' 'Mclean'\n",
      " 'Logan' 'Dewitt' 'Macon' 'Piatt' 'Douglas' 'Coles' 'Moultrie' 'Edgar'\n",
      " 'Shelby' 'Madison' 'Calhoun' 'Macoupin' 'Fayette' 'Montgomery' 'Greene'\n",
      " 'Jersey' 'Saint Clair' 'Christian' 'Bond' 'Washington' 'Clinton'\n",
      " 'Randolph' 'Monroe' 'Perry' 'Adams' 'Pike' 'Brown' 'Effingham' 'Wabash'\n",
      " 'Crawford' 'Lawrence' 'Richland' 'Clark' 'Cumberland' 'Jasper' 'Clay'\n",
      " 'Wayne' 'Edwards' 'Sangamon' 'Morgan' 'Scott' 'Cass' 'Menard' 'Marion'\n",
      " 'Franklin' 'Jefferson' 'Hamilton' 'White' 'Williamson' 'Gallatin'\n",
      " 'Jackson' 'Union' 'Johnson' 'Massac' 'Alexander' 'Saline' 'Hardin' 'Pope'\n",
      " 'Pulaski']\n"
     ]
    }
   ],
   "source": [
    "zips = pd.read_csv(\"illinois-zip-codes.csv\")\n",
    "counties = zips.County.unique()\n",
    "print(counties)"
   ]
  },
  {
   "cell_type": "code",
   "execution_count": 85,
   "metadata": {
    "collapsed": false,
    "deletable": true,
    "editable": true
   },
   "outputs": [],
   "source": [
    "# counties = list(map(lower, counties)); \n",
    "for i in range(0, len(counties)):\n",
    "    counties[i] = counties[i].lower().replace(\" \",\"\")\n",
    "    \n",
    "    if counties[i] == \"jodaviess\":\n",
    "        counties[i] = \"Jo+Daviess\"\n",
    "    if counties[i] == \"rockisland\":\n",
    "        counties[i] = \"Rock+Island\"       \n",
    "    if counties[i] == \"saintclair\":\n",
    "        pop_index_saintclair = i\n",
    "\n",
    "counties = counties[-pop_index_saintclair]     "
   ]
  },
  {
   "cell_type": "code",
   "execution_count": 23,
   "metadata": {
    "collapsed": false,
    "deletable": true,
    "editable": true
   },
   "outputs": [],
   "source": [
    "url = \"http://www2.tasc.org/tasc-services-in-your-community?field_tasc_county_tid=\"\n",
    "cty = counties[0]\n",
    "tmp_url = url + cty\n",
    "\n",
    "driver = webdriver.Chrome()\n",
    "driver.wait = WebDriverWait(driver, 5)\n",
    "driver.get(tmp_url)\n",
    "\n",
    "services_list = driver.wait.until(EC.presence_of_element_located((By.CLASS_NAME, \"county-services\")))"
   ]
  },
  {
   "cell_type": "markdown",
   "metadata": {},
   "source": [
    "services = services_list.find_elements_by_tag_name(\"li\")\n",
    "print(len(services))"
   ]
  },
  {
   "cell_type": "code",
   "execution_count": 86,
   "metadata": {
    "collapsed": false,
    "deletable": true,
    "editable": true
   },
   "outputs": [
    {
     "name": "stdout",
     "output_type": "stream",
     "text": [
      "County: l\n"
     ]
    },
    {
     "ename": "NoSuchWindowException",
     "evalue": "Message: no such window: target window already closed\nfrom unknown error: web view not found\n  (Session info: chrome=56.0.2924.87)\n  (Driver info: chromedriver=2.24.417412 (ac882d3ce7c0d99292439bf3405780058fcca0a6),platform=Mac OS X 10.11.3 x86_64)\n",
     "output_type": "error",
     "traceback": [
      "\u001b[0;31m---------------------------------------------------------------------------\u001b[0m",
      "\u001b[0;31mNoSuchWindowException\u001b[0m                     Traceback (most recent call last)",
      "\u001b[0;32m<ipython-input-86-4033b4432ae3>\u001b[0m in \u001b[0;36m<module>\u001b[0;34m()\u001b[0m\n\u001b[1;32m     13\u001b[0m     \u001b[0mdriver\u001b[0m\u001b[0;34m.\u001b[0m\u001b[0mget\u001b[0m\u001b[0;34m(\u001b[0m\u001b[0mtmp_url\u001b[0m\u001b[0;34m)\u001b[0m\u001b[0;34m\u001b[0m\u001b[0m\n\u001b[1;32m     14\u001b[0m \u001b[0;34m\u001b[0m\u001b[0m\n\u001b[0;32m---> 15\u001b[0;31m     \u001b[0mservices_list\u001b[0m \u001b[0;34m=\u001b[0m \u001b[0mdriver\u001b[0m\u001b[0;34m.\u001b[0m\u001b[0mwait\u001b[0m\u001b[0;34m.\u001b[0m\u001b[0muntil\u001b[0m\u001b[0;34m(\u001b[0m\u001b[0mEC\u001b[0m\u001b[0;34m.\u001b[0m\u001b[0mpresence_of_element_located\u001b[0m\u001b[0;34m(\u001b[0m\u001b[0;34m(\u001b[0m\u001b[0mBy\u001b[0m\u001b[0;34m.\u001b[0m\u001b[0mCLASS_NAME\u001b[0m\u001b[0;34m,\u001b[0m \u001b[0;34m\"county-services\"\u001b[0m\u001b[0;34m)\u001b[0m\u001b[0;34m)\u001b[0m\u001b[0;34m)\u001b[0m\u001b[0;34m\u001b[0m\u001b[0m\n\u001b[0m\u001b[1;32m     16\u001b[0m     \u001b[0mservices\u001b[0m \u001b[0;34m=\u001b[0m \u001b[0mservices_list\u001b[0m\u001b[0;34m.\u001b[0m\u001b[0mfind_elements_by_tag_name\u001b[0m\u001b[0;34m(\u001b[0m\u001b[0;34m\"li\"\u001b[0m\u001b[0;34m)\u001b[0m\u001b[0;34m\u001b[0m\u001b[0m\n\u001b[1;32m     17\u001b[0m \u001b[0;34m\u001b[0m\u001b[0m\n",
      "\u001b[0;32m/Users/alexengler/Desktop/ada-program/tasc-scraping/tasc-scraping/lib/python2.7/site-packages/selenium/webdriver/support/wait.pyc\u001b[0m in \u001b[0;36muntil\u001b[0;34m(self, method, message)\u001b[0m\n\u001b[1;32m     69\u001b[0m         \u001b[0;32mwhile\u001b[0m \u001b[0mTrue\u001b[0m\u001b[0;34m:\u001b[0m\u001b[0;34m\u001b[0m\u001b[0m\n\u001b[1;32m     70\u001b[0m             \u001b[0;32mtry\u001b[0m\u001b[0;34m:\u001b[0m\u001b[0;34m\u001b[0m\u001b[0m\n\u001b[0;32m---> 71\u001b[0;31m                 \u001b[0mvalue\u001b[0m \u001b[0;34m=\u001b[0m \u001b[0mmethod\u001b[0m\u001b[0;34m(\u001b[0m\u001b[0mself\u001b[0m\u001b[0;34m.\u001b[0m\u001b[0m_driver\u001b[0m\u001b[0;34m)\u001b[0m\u001b[0;34m\u001b[0m\u001b[0m\n\u001b[0m\u001b[1;32m     72\u001b[0m                 \u001b[0;32mif\u001b[0m \u001b[0mvalue\u001b[0m\u001b[0;34m:\u001b[0m\u001b[0;34m\u001b[0m\u001b[0m\n\u001b[1;32m     73\u001b[0m                     \u001b[0;32mreturn\u001b[0m \u001b[0mvalue\u001b[0m\u001b[0;34m\u001b[0m\u001b[0m\n",
      "\u001b[0;32m/Users/alexengler/Desktop/ada-program/tasc-scraping/tasc-scraping/lib/python2.7/site-packages/selenium/webdriver/support/expected_conditions.pyc\u001b[0m in \u001b[0;36m__call__\u001b[0;34m(self, driver)\u001b[0m\n\u001b[1;32m     61\u001b[0m \u001b[0;34m\u001b[0m\u001b[0m\n\u001b[1;32m     62\u001b[0m     \u001b[0;32mdef\u001b[0m \u001b[0m__call__\u001b[0m\u001b[0;34m(\u001b[0m\u001b[0mself\u001b[0m\u001b[0;34m,\u001b[0m \u001b[0mdriver\u001b[0m\u001b[0;34m)\u001b[0m\u001b[0;34m:\u001b[0m\u001b[0;34m\u001b[0m\u001b[0m\n\u001b[0;32m---> 63\u001b[0;31m         \u001b[0;32mreturn\u001b[0m \u001b[0m_find_element\u001b[0m\u001b[0;34m(\u001b[0m\u001b[0mdriver\u001b[0m\u001b[0;34m,\u001b[0m \u001b[0mself\u001b[0m\u001b[0;34m.\u001b[0m\u001b[0mlocator\u001b[0m\u001b[0;34m)\u001b[0m\u001b[0;34m\u001b[0m\u001b[0m\n\u001b[0m\u001b[1;32m     64\u001b[0m \u001b[0;34m\u001b[0m\u001b[0m\n\u001b[1;32m     65\u001b[0m \u001b[0;34m\u001b[0m\u001b[0m\n",
      "\u001b[0;32m/Users/alexengler/Desktop/ada-program/tasc-scraping/tasc-scraping/lib/python2.7/site-packages/selenium/webdriver/support/expected_conditions.pyc\u001b[0m in \u001b[0;36m_find_element\u001b[0;34m(driver, by)\u001b[0m\n\u001b[1;32m    330\u001b[0m         \u001b[0;32mraise\u001b[0m \u001b[0me\u001b[0m\u001b[0;34m\u001b[0m\u001b[0m\n\u001b[1;32m    331\u001b[0m     \u001b[0;32mexcept\u001b[0m \u001b[0mWebDriverException\u001b[0m \u001b[0;32mas\u001b[0m \u001b[0me\u001b[0m\u001b[0;34m:\u001b[0m\u001b[0;34m\u001b[0m\u001b[0m\n\u001b[0;32m--> 332\u001b[0;31m         \u001b[0;32mraise\u001b[0m \u001b[0me\u001b[0m\u001b[0;34m\u001b[0m\u001b[0m\n\u001b[0m\u001b[1;32m    333\u001b[0m \u001b[0;34m\u001b[0m\u001b[0m\n\u001b[1;32m    334\u001b[0m \u001b[0;34m\u001b[0m\u001b[0m\n",
      "\u001b[0;31mNoSuchWindowException\u001b[0m: Message: no such window: target window already closed\nfrom unknown error: web view not found\n  (Session info: chrome=56.0.2924.87)\n  (Driver info: chromedriver=2.24.417412 (ac882d3ce7c0d99292439bf3405780058fcca0a6),platform=Mac OS X 10.11.3 x86_64)\n"
     ]
    }
   ],
   "source": [
    "url = \"http://www2.tasc.org/tasc-services-in-your-community?field_tasc_county_tid=\"\n",
    "\n",
    "final_list = list()\n",
    "\n",
    "for i in range(0, len(counties)):\n",
    "    cty = counties[i]\n",
    "    print(\"County: \" + cty)\n",
    "\n",
    "    tmp_url = url + cty\n",
    "\n",
    "    driver = webdriver.Chrome()\n",
    "    driver.wait = WebDriverWait(driver, 5)\n",
    "    driver.get(tmp_url)\n",
    "\n",
    "    services_list = driver.wait.until(EC.presence_of_element_located((By.CLASS_NAME, \"county-services\")))\n",
    "    services = services_list.find_elements_by_tag_name(\"li\")\n",
    "\n",
    "    services_true = list()\n",
    "    for i in range(0,len(services)):\n",
    "        try:\n",
    "            header = services[i].find_element_by_tag_name(\"h2\")\n",
    "            services_true.append(services[i])\n",
    "        except NoSuchElementException:\n",
    "            print(\"Dropping list item\")\n",
    "\n",
    "    print(\"*****************\") \n",
    "    print(\"Number of services: \" + str(len(services)))\n",
    "    print(\"*****************\") \n",
    "    \n",
    "    try: \n",
    "        for h in range(0, len(services_true)):\n",
    "            print(services_true[h].text)\n",
    "\n",
    "            header = services_true[h].find_element_by_tag_name(\"h2\")\n",
    "\n",
    "            obj = {\n",
    "                \"name\": header.text,\n",
    "                \"link\": header.find_element_by_tag_name(\"a\").get_attribute(\"href\"),\n",
    "                \"county\": cty\n",
    "            }\n",
    "\n",
    "            final_list.append(obj)\n",
    "            \n",
    "        driver.close()\n",
    "        driver.quit()\n",
    "        \n",
    "    except: \n",
    "        print(\"Error! Closing Driver.\")\n",
    "        driver.close()\n",
    "        driver.quit()"
   ]
  },
  {
   "cell_type": "code",
   "execution_count": 75,
   "metadata": {
    "collapsed": false,
    "deletable": true,
    "editable": true
   },
   "outputs": [
    {
     "name": "stdout",
     "output_type": "stream",
     "text": [
      "[{'link': u'http://www2.tasc.org/content/leader/deana-elmore-ma-cjap-cars', 'name': u'Deana Elmore, MA, CJAP, CARS'}, {'link': u'http://www2.tasc.org/content/leader/karen-notko-ba', 'name': u'Karen Notko, BA'}, {'link': u'http://www2.tasc.org/content/leader/angela-daniels-bs-cadc', 'name': u'Angela Daniels, BS, CADC'}, {'link': u'http://www2.tasc.org/content/leader/anthony-l-harden-cadc-ate', 'name': u'Anthony L. Harden, CADC, ATE'}, {'link': u'http://www2.tasc.org/content/leader/karen-notko-ba', 'name': u'Karen Notko, BA'}, {'link': u'http://www2.tasc.org/content/leader/robin-moore', 'name': u'Robin Moore, MSW, LCSW, CADC'}, {'link': u'http://www2.tasc.org/content/leader/angela-daniels-bs-cadc', 'name': u'Angela Daniels, BS, CADC'}, {'link': u'http://www2.tasc.org/content/leader/jean-mays-msw-lcsw', 'name': u'Jean Mays, MSW, LCSW'}, {'link': u'http://www2.tasc.org/content/leader/anthony-l-harden-cadc-ate', 'name': u'Anthony L. Harden, CADC, ATE'}, {'link': u'http://www2.tasc.org/content/leader/contact-osborne', 'name': u'TASC Court and Probation Services, Cook County'}, {'link': u'http://www2.tasc.org/content/leader/deana-elmore-ma-cjap-cars', 'name': u'Deana Elmore, MA, CJAP, CARS'}, {'link': u'http://www2.tasc.org/content/leader/karen-notko-ba', 'name': u'Karen Notko, BA'}]\n"
     ]
    }
   ],
   "source": [
    "print(final_list)"
   ]
  },
  {
   "cell_type": "code",
   "execution_count": null,
   "metadata": {
    "collapsed": true,
    "deletable": true,
    "editable": true
   },
   "outputs": [],
   "source": []
  }
 ],
 "metadata": {
  "kernelspec": {
   "display_name": "Python 2",
   "language": "python",
   "name": "python2"
  },
  "language_info": {
   "codemirror_mode": {
    "name": "ipython",
    "version": 2
   },
   "file_extension": ".py",
   "mimetype": "text/x-python",
   "name": "python",
   "nbconvert_exporter": "python",
   "pygments_lexer": "ipython2",
   "version": "2.7.11"
  }
 },
 "nbformat": 4,
 "nbformat_minor": 0
}
