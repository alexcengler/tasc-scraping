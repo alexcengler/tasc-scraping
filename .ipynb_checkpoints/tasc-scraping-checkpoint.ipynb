{
 "cells": [
  {
   "cell_type": "code",
   "execution_count": 11,
   "metadata": {
    "collapsed": false,
    "deletable": true,
    "editable": true
   },
   "outputs": [],
   "source": [
    "import requests\n",
    "import selenium\n",
    "import pandas as pd\n",
    "import BeautifulSoup as soup"
   ]
  },
  {
   "cell_type": "code",
   "execution_count": 14,
   "metadata": {
    "collapsed": false,
    "deletable": true,
    "editable": true
   },
   "outputs": [],
   "source": [
    "zips = pd.read_csv(\"illinois-zip-codes.csv\")\n",
    "counties = zips.County.unique()"
   ]
  },
  {
   "cell_type": "code",
   "execution_count": 15,
   "metadata": {
    "collapsed": false,
    "deletable": true,
    "editable": true
   },
   "outputs": [],
   "source": [
    "# counties = list(map(lower, counties)); \n",
    "for i in range(0, len(counties)):\n",
    "    counties[i] = counties[i].lower().replace(\" \",\"\")"
   ]
  },
  {
   "cell_type": "code",
   "execution_count": 16,
   "metadata": {
    "collapsed": false,
    "deletable": true,
    "editable": true
   },
   "outputs": [
    {
     "data": {
      "text/plain": [
       "array(['mchenry', 'lake', 'cook', 'dupage', 'kane', 'dekalb', 'ogle',\n",
       "       'will', 'grundy', 'livingston', 'lasalle', 'kendall', 'lee',\n",
       "       'kankakee', 'iroquois', 'ford', 'vermilion', 'champaign',\n",
       "       'jodaviess', 'boone', 'stephenson', 'carroll', 'winnebago',\n",
       "       'whiteside', 'rockisland', 'mercer', 'henry', 'bureau', 'putnam',\n",
       "       'marshall', 'knox', 'mcdonough', 'fulton', 'warren', 'henderson',\n",
       "       'stark', 'hancock', 'peoria', 'schuyler', 'woodford', 'mason',\n",
       "       'tazewell', 'mclean', 'logan', 'dewitt', 'macon', 'piatt',\n",
       "       'douglas', 'coles', 'moultrie', 'edgar', 'shelby', 'madison',\n",
       "       'calhoun', 'macoupin', 'fayette', 'montgomery', 'greene', 'jersey',\n",
       "       'saintclair', 'christian', 'bond', 'washington', 'clinton',\n",
       "       'randolph', 'monroe', 'perry', 'adams', 'pike', 'brown',\n",
       "       'effingham', 'wabash', 'crawford', 'lawrence', 'richland', 'clark',\n",
       "       'cumberland', 'jasper', 'clay', 'wayne', 'edwards', 'sangamon',\n",
       "       'morgan', 'scott', 'cass', 'menard', 'marion', 'franklin',\n",
       "       'jefferson', 'hamilton', 'white', 'williamson', 'gallatin',\n",
       "       'jackson', 'union', 'johnson', 'massac', 'alexander', 'saline',\n",
       "       'hardin', 'pope', 'pulaski'], dtype=object)"
      ]
     },
     "execution_count": 16,
     "metadata": {},
     "output_type": "execute_result"
    }
   ],
   "source": [
    "counties"
   ]
  },
  {
   "cell_type": "code",
   "execution_count": 5,
   "metadata": {
    "collapsed": false,
    "deletable": true,
    "editable": true
   },
   "outputs": [
    {
     "ename": "SyntaxError",
     "evalue": "invalid syntax (<ipython-input-5-897ac85fd83b>, line 8)",
     "output_type": "error",
     "traceback": [
      "\u001b[0;36m  File \u001b[0;32m\"<ipython-input-5-897ac85fd83b>\"\u001b[0;36m, line \u001b[0;32m8\u001b[0m\n\u001b[0;31m    ul page.\u001b[0m\n\u001b[0m          ^\u001b[0m\n\u001b[0;31mSyntaxError\u001b[0m\u001b[0;31m:\u001b[0m invalid syntax\n"
     ]
    }
   ],
   "source": [
    "url = \"http://www2.tasc.org/tasc-services-in-your-community?field_tasc_county_tid=\"\n",
    "\n",
    "cty = counties[0]\n",
    "tmp_url = url + cty\n",
    "page = requests.get(url)\n",
    "print(page)\n",
    "\n",
    "ul page."
   ]
  },
  {
   "cell_type": "code",
   "execution_count": null,
   "metadata": {
    "collapsed": false,
    "deletable": true,
    "editable": true
   },
   "outputs": [],
   "source": [
    "page.text"
   ]
  },
  {
   "cell_type": "code",
   "execution_count": null,
   "metadata": {
    "collapsed": true,
    "deletable": true,
    "editable": true
   },
   "outputs": [],
   "source": [
    "for i  in counties:\n",
    "    tmp_url = url + cty\n",
    "    page = requests.get(url)\n",
    "\n",
    "    "
   ]
  }
 ],
 "metadata": {
  "kernelspec": {
   "display_name": "Python 2",
   "language": "python",
   "name": "python2"
  },
  "language_info": {
   "codemirror_mode": {
    "name": "ipython",
    "version": 2
   },
   "file_extension": ".py",
   "mimetype": "text/x-python",
   "name": "python",
   "nbconvert_exporter": "python",
   "pygments_lexer": "ipython2",
   "version": "2.7.11"
  }
 },
 "nbformat": 4,
 "nbformat_minor": 0
}
