{
 "cells": [
  {
   "cell_type": "code",
   "execution_count": 4,
   "metadata": {
    "collapsed": false
   },
   "outputs": [],
   "source": [
    "import requests\n",
    "import selenium\n",
    "import pandas as pd"
   ]
  },
  {
   "cell_type": "code",
   "execution_count": 9,
   "metadata": {
    "collapsed": true
   },
   "outputs": [],
   "source": [
    "zips = pd.read_csv(\"illinois-zip-codes.csv\")\n",
    "counties = zips.County.unique()"
   ]
  },
  {
   "cell_type": "code",
   "execution_count": 10,
   "metadata": {
    "collapsed": false
   },
   "outputs": [
    {
     "data": {
      "text/plain": [
       "array(['Mchenry', 'Lake', 'Cook', 'Dupage', 'Kane', 'Dekalb', 'Ogle',\n",
       "       'Will', 'Grundy', 'Livingston', 'La Salle', 'Kendall', 'Lee',\n",
       "       'Kankakee', 'Iroquois', 'Ford', 'Vermilion', 'Champaign',\n",
       "       'Jo Daviess', 'Boone', 'Stephenson', 'Carroll', 'Winnebago',\n",
       "       'Whiteside', 'Rock Island', 'Mercer', 'Henry', 'Bureau', 'Putnam',\n",
       "       'Marshall', 'Knox', 'Mcdonough', 'Fulton', 'Warren', 'Henderson',\n",
       "       'Stark', 'Hancock', 'Peoria', 'Schuyler', 'Woodford', 'Mason',\n",
       "       'Tazewell', 'Mclean', 'Logan', 'Dewitt', 'Macon', 'Piatt',\n",
       "       'Douglas', 'Coles', 'Moultrie', 'Edgar', 'Shelby', 'Madison',\n",
       "       'Calhoun', 'Macoupin', 'Fayette', 'Montgomery', 'Greene', 'Jersey',\n",
       "       'Saint Clair', 'Christian', 'Bond', 'Washington', 'Clinton',\n",
       "       'Randolph', 'Monroe', 'Perry', 'Adams', 'Pike', 'Brown',\n",
       "       'Effingham', 'Wabash', 'Crawford', 'Lawrence', 'Richland', 'Clark',\n",
       "       'Cumberland', 'Jasper', 'Clay', 'Wayne', 'Edwards', 'Sangamon',\n",
       "       'Morgan', 'Scott', 'Cass', 'Menard', 'Marion', 'Franklin',\n",
       "       'Jefferson', 'Hamilton', 'White', 'Williamson', 'Gallatin',\n",
       "       'Jackson', 'Union', 'Johnson', 'Massac', 'Alexander', 'Saline',\n",
       "       'Hardin', 'Pope', 'Pulaski'], dtype=object)"
      ]
     },
     "execution_count": 10,
     "metadata": {},
     "output_type": "execute_result"
    }
   ],
   "source": [
    "counties"
   ]
  },
  {
   "cell_type": "code",
   "execution_count": 11,
   "metadata": {
    "collapsed": false
   },
   "outputs": [
    {
     "name": "stdout",
     "output_type": "stream",
     "text": [
      "http://www2.tasc.org/tasc-services-in-your-community?field_tasc_county_tid=Mchenry\n",
      "http://www2.tasc.org/tasc-services-in-your-community?field_tasc_county_tid=Lake\n",
      "http://www2.tasc.org/tasc-services-in-your-community?field_tasc_county_tid=Cook\n",
      "http://www2.tasc.org/tasc-services-in-your-community?field_tasc_county_tid=Dupage\n",
      "http://www2.tasc.org/tasc-services-in-your-community?field_tasc_county_tid=Kane\n",
      "http://www2.tasc.org/tasc-services-in-your-community?field_tasc_county_tid=Dekalb\n",
      "http://www2.tasc.org/tasc-services-in-your-community?field_tasc_county_tid=Ogle\n",
      "http://www2.tasc.org/tasc-services-in-your-community?field_tasc_county_tid=Will\n",
      "http://www2.tasc.org/tasc-services-in-your-community?field_tasc_county_tid=Grundy\n",
      "http://www2.tasc.org/tasc-services-in-your-community?field_tasc_county_tid=Livingston\n",
      "http://www2.tasc.org/tasc-services-in-your-community?field_tasc_county_tid=La Salle\n",
      "http://www2.tasc.org/tasc-services-in-your-community?field_tasc_county_tid=Kendall\n",
      "http://www2.tasc.org/tasc-services-in-your-community?field_tasc_county_tid=Lee\n",
      "http://www2.tasc.org/tasc-services-in-your-community?field_tasc_county_tid=Kankakee\n",
      "http://www2.tasc.org/tasc-services-in-your-community?field_tasc_county_tid=Iroquois\n",
      "http://www2.tasc.org/tasc-services-in-your-community?field_tasc_county_tid=Ford\n",
      "http://www2.tasc.org/tasc-services-in-your-community?field_tasc_county_tid=Vermilion\n",
      "http://www2.tasc.org/tasc-services-in-your-community?field_tasc_county_tid=Champaign\n",
      "http://www2.tasc.org/tasc-services-in-your-community?field_tasc_county_tid=Jo Daviess\n",
      "http://www2.tasc.org/tasc-services-in-your-community?field_tasc_county_tid=Boone\n",
      "http://www2.tasc.org/tasc-services-in-your-community?field_tasc_county_tid=Stephenson\n",
      "http://www2.tasc.org/tasc-services-in-your-community?field_tasc_county_tid=Carroll\n",
      "http://www2.tasc.org/tasc-services-in-your-community?field_tasc_county_tid=Winnebago\n",
      "http://www2.tasc.org/tasc-services-in-your-community?field_tasc_county_tid=Whiteside\n",
      "http://www2.tasc.org/tasc-services-in-your-community?field_tasc_county_tid=Rock Island\n",
      "http://www2.tasc.org/tasc-services-in-your-community?field_tasc_county_tid=Mercer\n",
      "http://www2.tasc.org/tasc-services-in-your-community?field_tasc_county_tid=Henry\n",
      "http://www2.tasc.org/tasc-services-in-your-community?field_tasc_county_tid=Bureau\n",
      "http://www2.tasc.org/tasc-services-in-your-community?field_tasc_county_tid=Putnam\n",
      "http://www2.tasc.org/tasc-services-in-your-community?field_tasc_county_tid=Marshall\n",
      "http://www2.tasc.org/tasc-services-in-your-community?field_tasc_county_tid=Knox\n",
      "http://www2.tasc.org/tasc-services-in-your-community?field_tasc_county_tid=Mcdonough\n",
      "http://www2.tasc.org/tasc-services-in-your-community?field_tasc_county_tid=Fulton\n",
      "http://www2.tasc.org/tasc-services-in-your-community?field_tasc_county_tid=Warren\n",
      "http://www2.tasc.org/tasc-services-in-your-community?field_tasc_county_tid=Henderson\n",
      "http://www2.tasc.org/tasc-services-in-your-community?field_tasc_county_tid=Stark\n",
      "http://www2.tasc.org/tasc-services-in-your-community?field_tasc_county_tid=Hancock\n",
      "http://www2.tasc.org/tasc-services-in-your-community?field_tasc_county_tid=Peoria\n",
      "http://www2.tasc.org/tasc-services-in-your-community?field_tasc_county_tid=Schuyler\n",
      "http://www2.tasc.org/tasc-services-in-your-community?field_tasc_county_tid=Woodford\n",
      "http://www2.tasc.org/tasc-services-in-your-community?field_tasc_county_tid=Mason\n",
      "http://www2.tasc.org/tasc-services-in-your-community?field_tasc_county_tid=Tazewell\n",
      "http://www2.tasc.org/tasc-services-in-your-community?field_tasc_county_tid=Mclean\n",
      "http://www2.tasc.org/tasc-services-in-your-community?field_tasc_county_tid=Logan\n",
      "http://www2.tasc.org/tasc-services-in-your-community?field_tasc_county_tid=Dewitt\n",
      "http://www2.tasc.org/tasc-services-in-your-community?field_tasc_county_tid=Macon\n",
      "http://www2.tasc.org/tasc-services-in-your-community?field_tasc_county_tid=Piatt\n",
      "http://www2.tasc.org/tasc-services-in-your-community?field_tasc_county_tid=Douglas\n",
      "http://www2.tasc.org/tasc-services-in-your-community?field_tasc_county_tid=Coles\n",
      "http://www2.tasc.org/tasc-services-in-your-community?field_tasc_county_tid=Moultrie\n",
      "http://www2.tasc.org/tasc-services-in-your-community?field_tasc_county_tid=Edgar\n",
      "http://www2.tasc.org/tasc-services-in-your-community?field_tasc_county_tid=Shelby\n",
      "http://www2.tasc.org/tasc-services-in-your-community?field_tasc_county_tid=Madison\n",
      "http://www2.tasc.org/tasc-services-in-your-community?field_tasc_county_tid=Calhoun\n",
      "http://www2.tasc.org/tasc-services-in-your-community?field_tasc_county_tid=Macoupin\n",
      "http://www2.tasc.org/tasc-services-in-your-community?field_tasc_county_tid=Fayette\n",
      "http://www2.tasc.org/tasc-services-in-your-community?field_tasc_county_tid=Montgomery\n",
      "http://www2.tasc.org/tasc-services-in-your-community?field_tasc_county_tid=Greene\n",
      "http://www2.tasc.org/tasc-services-in-your-community?field_tasc_county_tid=Jersey\n",
      "http://www2.tasc.org/tasc-services-in-your-community?field_tasc_county_tid=Saint Clair\n",
      "http://www2.tasc.org/tasc-services-in-your-community?field_tasc_county_tid=Christian\n",
      "http://www2.tasc.org/tasc-services-in-your-community?field_tasc_county_tid=Bond\n",
      "http://www2.tasc.org/tasc-services-in-your-community?field_tasc_county_tid=Washington\n",
      "http://www2.tasc.org/tasc-services-in-your-community?field_tasc_county_tid=Clinton\n",
      "http://www2.tasc.org/tasc-services-in-your-community?field_tasc_county_tid=Randolph\n",
      "http://www2.tasc.org/tasc-services-in-your-community?field_tasc_county_tid=Monroe\n",
      "http://www2.tasc.org/tasc-services-in-your-community?field_tasc_county_tid=Perry\n",
      "http://www2.tasc.org/tasc-services-in-your-community?field_tasc_county_tid=Adams\n",
      "http://www2.tasc.org/tasc-services-in-your-community?field_tasc_county_tid=Pike\n",
      "http://www2.tasc.org/tasc-services-in-your-community?field_tasc_county_tid=Brown\n",
      "http://www2.tasc.org/tasc-services-in-your-community?field_tasc_county_tid=Effingham\n",
      "http://www2.tasc.org/tasc-services-in-your-community?field_tasc_county_tid=Wabash\n",
      "http://www2.tasc.org/tasc-services-in-your-community?field_tasc_county_tid=Crawford\n",
      "http://www2.tasc.org/tasc-services-in-your-community?field_tasc_county_tid=Lawrence\n",
      "http://www2.tasc.org/tasc-services-in-your-community?field_tasc_county_tid=Richland\n",
      "http://www2.tasc.org/tasc-services-in-your-community?field_tasc_county_tid=Clark\n",
      "http://www2.tasc.org/tasc-services-in-your-community?field_tasc_county_tid=Cumberland\n",
      "http://www2.tasc.org/tasc-services-in-your-community?field_tasc_county_tid=Jasper\n",
      "http://www2.tasc.org/tasc-services-in-your-community?field_tasc_county_tid=Clay\n",
      "http://www2.tasc.org/tasc-services-in-your-community?field_tasc_county_tid=Wayne\n",
      "http://www2.tasc.org/tasc-services-in-your-community?field_tasc_county_tid=Edwards\n",
      "http://www2.tasc.org/tasc-services-in-your-community?field_tasc_county_tid=Sangamon\n",
      "http://www2.tasc.org/tasc-services-in-your-community?field_tasc_county_tid=Morgan\n",
      "http://www2.tasc.org/tasc-services-in-your-community?field_tasc_county_tid=Scott\n",
      "http://www2.tasc.org/tasc-services-in-your-community?field_tasc_county_tid=Cass\n",
      "http://www2.tasc.org/tasc-services-in-your-community?field_tasc_county_tid=Menard\n",
      "http://www2.tasc.org/tasc-services-in-your-community?field_tasc_county_tid=Marion\n",
      "http://www2.tasc.org/tasc-services-in-your-community?field_tasc_county_tid=Franklin\n",
      "http://www2.tasc.org/tasc-services-in-your-community?field_tasc_county_tid=Jefferson\n",
      "http://www2.tasc.org/tasc-services-in-your-community?field_tasc_county_tid=Hamilton\n",
      "http://www2.tasc.org/tasc-services-in-your-community?field_tasc_county_tid=White\n",
      "http://www2.tasc.org/tasc-services-in-your-community?field_tasc_county_tid=Williamson\n",
      "http://www2.tasc.org/tasc-services-in-your-community?field_tasc_county_tid=Gallatin\n",
      "http://www2.tasc.org/tasc-services-in-your-community?field_tasc_county_tid=Jackson\n",
      "http://www2.tasc.org/tasc-services-in-your-community?field_tasc_county_tid=Union\n",
      "http://www2.tasc.org/tasc-services-in-your-community?field_tasc_county_tid=Johnson\n",
      "http://www2.tasc.org/tasc-services-in-your-community?field_tasc_county_tid=Massac\n",
      "http://www2.tasc.org/tasc-services-in-your-community?field_tasc_county_tid=Alexander\n",
      "http://www2.tasc.org/tasc-services-in-your-community?field_tasc_county_tid=Saline\n",
      "http://www2.tasc.org/tasc-services-in-your-community?field_tasc_county_tid=Hardin\n",
      "http://www2.tasc.org/tasc-services-in-your-community?field_tasc_county_tid=Pope\n",
      "http://www2.tasc.org/tasc-services-in-your-community?field_tasc_county_tid=Pulaski\n"
     ]
    }
   ],
   "source": [
    "url = \"http://www2.tasc.org/tasc-services-in-your-community?field_tasc_county_tid=\"\n",
    "\n",
    "for cty in counties:\n",
    "    print url + cty"
   ]
  },
  {
   "cell_type": "code",
   "execution_count": null,
   "metadata": {
    "collapsed": true
   },
   "outputs": [],
   "source": []
  }
 ],
 "metadata": {
  "kernelspec": {
   "display_name": "Python 2",
   "language": "python",
   "name": "python2"
  },
  "language_info": {
   "codemirror_mode": {
    "name": "ipython",
    "version": 2
   },
   "file_extension": ".py",
   "mimetype": "text/x-python",
   "name": "python",
   "nbconvert_exporter": "python",
   "pygments_lexer": "ipython2",
   "version": "2.7.13"
  }
 },
 "nbformat": 4,
 "nbformat_minor": 0
}
